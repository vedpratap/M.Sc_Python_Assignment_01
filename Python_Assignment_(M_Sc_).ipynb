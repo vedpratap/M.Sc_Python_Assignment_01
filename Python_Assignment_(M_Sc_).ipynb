{
  "nbformat": 4,
  "nbformat_minor": 0,
  "metadata": {
    "colab": {
      "provenance": [],
      "authorship_tag": "ABX9TyPJUV8ivRozB/NrD+85akRq",
      "include_colab_link": true
    },
    "kernelspec": {
      "name": "python3",
      "display_name": "Python 3"
    },
    "language_info": {
      "name": "python"
    }
  },
  "cells": [
    {
      "cell_type": "markdown",
      "metadata": {
        "id": "view-in-github",
        "colab_type": "text"
      },
      "source": [
        "<a href=\"https://colab.research.google.com/github/vedpratap/M.Sc_Python_Assignment_01/blob/main/Python_Assignment_(M_Sc_).ipynb\" target=\"_parent\"><img src=\"https://colab.research.google.com/assets/colab-badge.svg\" alt=\"Open In Colab\"/></a>"
      ]
    },
    {
      "cell_type": "markdown",
      "source": [
        "###Take two numbers (a & b) in input and print the following\n",
        "- a. Sum (a+b)\n",
        "- b. Product (axb)\n",
        "- c. a power b\n",
        "- d. a modulo b"
      ],
      "metadata": {
        "id": "NaPUmlXKE4I2"
      }
    },
    {
      "cell_type": "code",
      "source": [
        "#Taking input 'a' & 'b'.\n",
        "a = eval(input(\"Enter a :\"))\n",
        "b = eval(input(\"Enter b :\"))\n",
        "#Sum\n",
        "print(\"Sum of 'a' & 'b' is given by\", a+b)\n",
        "#Product\n",
        "print(\"Product of 'a' & 'b' is given by\", a*b)\n",
        "#Power\n",
        "print(\"a power b is given by\", a**b)\n",
        "#Modulo\n",
        "print(\"a modulo b is given by\", a%b)"
      ],
      "metadata": {
        "colab": {
          "base_uri": "https://localhost:8080/"
        },
        "id": "t-JBRrDHE-hB",
        "outputId": "c0a4a2ae-b15e-4c9a-e28c-f9b71fe574c1"
      },
      "execution_count": null,
      "outputs": [
        {
          "output_type": "stream",
          "name": "stdout",
          "text": [
            "Enter a :2\n",
            "Enter b :5\n",
            "Sum of 'a' & 'b' is given by 7\n",
            "Product of 'a' & 'b' is given by 10\n",
            "a power b is given by 32\n",
            "a modulo b is given by 2\n"
          ]
        }
      ]
    },
    {
      "cell_type": "markdown",
      "source": [
        "###Take a number in input and check whether number is odd or even."
      ],
      "metadata": {
        "id": "syTFadcpF6lO"
      }
    },
    {
      "cell_type": "code",
      "source": [
        "# Takin a number in input.\n",
        "number = eval(input(\"Enter Number : \"))\n",
        "# Checking whether 2 divides the number or not.\n",
        "if (number % 2) == 0:\n",
        "  print(\"Given number is even.\")\n",
        "else:\n",
        "  print(\"Guven number is odd.\")"
      ],
      "metadata": {
        "colab": {
          "base_uri": "https://localhost:8080/"
        },
        "id": "xtOKTsxaGDX7",
        "outputId": "e264b975-7b78-4101-d705-dbae6c98e694"
      },
      "execution_count": null,
      "outputs": [
        {
          "output_type": "stream",
          "name": "stdout",
          "text": [
            "Enter Number : 5\n",
            "Guven number is odd.\n"
          ]
        }
      ]
    },
    {
      "cell_type": "markdown",
      "source": [
        "### Write a python program to print the table of 2 – 20 in proper format."
      ],
      "metadata": {
        "id": "nqroIDdsHCTH"
      }
    },
    {
      "cell_type": "code",
      "source": [
        "for i in range(1, 11):\n",
        "  for j in range(2, 21):\n",
        "    print(\"%4d\" %(j*i), end =' ')\n",
        "  print(\"\\n\")"
      ],
      "metadata": {
        "colab": {
          "base_uri": "https://localhost:8080/"
        },
        "id": "icEo3H0JHTG_",
        "outputId": "f5e908bb-514b-4507-fd9a-550d1224356c"
      },
      "execution_count": null,
      "outputs": [
        {
          "output_type": "stream",
          "name": "stdout",
          "text": [
            "   2    3    4    5    6    7    8    9   10   11   12   13   14   15   16   17   18   19   20 \n",
            "\n",
            "   4    6    8   10   12   14   16   18   20   22   24   26   28   30   32   34   36   38   40 \n",
            "\n",
            "   6    9   12   15   18   21   24   27   30   33   36   39   42   45   48   51   54   57   60 \n",
            "\n",
            "   8   12   16   20   24   28   32   36   40   44   48   52   56   60   64   68   72   76   80 \n",
            "\n",
            "  10   15   20   25   30   35   40   45   50   55   60   65   70   75   80   85   90   95  100 \n",
            "\n",
            "  12   18   24   30   36   42   48   54   60   66   72   78   84   90   96  102  108  114  120 \n",
            "\n",
            "  14   21   28   35   42   49   56   63   70   77   84   91   98  105  112  119  126  133  140 \n",
            "\n",
            "  16   24   32   40   48   56   64   72   80   88   96  104  112  120  128  136  144  152  160 \n",
            "\n",
            "  18   27   36   45   54   63   72   81   90   99  108  117  126  135  144  153  162  171  180 \n",
            "\n",
            "  20   30   40   50   60   70   80   90  100  110  120  130  140  150  160  170  180  190  200 \n",
            "\n"
          ]
        }
      ]
    },
    {
      "cell_type": "markdown",
      "source": [
        "### Print the alphabets from A to F with star (*).\n",
        "- Run the code.\n",
        "- Enter height for the pattern (odd number is recommendable).\n",
        "- Enter letter between **A** to **F** in capital to get pattern.\n"
      ],
      "metadata": {
        "id": "peqz8GCqbkc-"
      }
    },
    {
      "cell_type": "code",
      "source": [
        "# Height & Width\n",
        "height = int(input(\"Enter height : \"))\n",
        "width = (2 * height) - 1\n",
        " \n",
        "# Absolute value\n",
        " \n",
        "def abs(d):\n",
        "    if d < 0:\n",
        "        return -1*d\n",
        "    else:\n",
        "        return d\n",
        " \n",
        "# Function to print the pattern of 'A'\n",
        " \n",
        "def printA():\n",
        "    n = width // 2\n",
        "    for i in range(0, height):\n",
        "        for j in range(0, width+1):\n",
        "            if (j == n or j == (width - n) or (i == (height // 2) and j > n and j < (width - n))):\n",
        "                print(\"*\", end=\"\")\n",
        "            else:\n",
        "                print(end=\" \")\n",
        "        print()\n",
        "        n = n-1\n",
        " \n",
        "# Function to print the pattern of 'B'\n",
        "def printB() :\n",
        "    half = height // 2\n",
        "    for i in range(0,height) :\n",
        "        print(\"*\",end=\"\")\n",
        "        for j in range(0,width) :\n",
        "            if ((i == 0 or i == height - 1 or i == half) and j < (width - 2)) :\n",
        "                print(\"*\",end=\"\")\n",
        "            elif (j == (width - 2) and not(i == 0 or i == height - 1 or i == half)) :\n",
        "                print(\"*\",end=\"\")\n",
        "            else :\n",
        "                print(end=\" \")\n",
        "        print()\n",
        " \n",
        "# Function to print the pattern of 'C'\n",
        "def printC() :\n",
        "    for i in range(0,height) :\n",
        "        print(\"*\",end=\"\")\n",
        "        for j in range(0,height - 1) :\n",
        "            if (i == 0 or i == height - 1 ) :\n",
        "                print(\"*\",end=\"\")\n",
        "            else :\n",
        "                continue\n",
        "        print()\n",
        " \n",
        "# Function to print the pattern of 'D'\n",
        "def printD() :\n",
        "    for i in range(0,height) :\n",
        "        print(\"*\",end=\"\")\n",
        "        for j in range(0,height) :\n",
        "            if ( (i == 0 or i == height - 1) and j < height - 1 ):\n",
        "                print(\"*\",end=\"\")\n",
        "            elif (j == height - 1 and i != 0 and i != height - 1) :\n",
        "                print(\"*\",end=\"\")\n",
        "            else :\n",
        "                print(end=\" \")\n",
        "        print()\n",
        " \n",
        "# Function to print the pattern of 'E'\n",
        "def printE() :\n",
        "    for i in range(0,height) :\n",
        "        print(\"*\",end=\"\")\n",
        "        for j in range(0,height) :\n",
        "            if ( (i == 0 or i == height - 1) or (i == height // 2 and j <= height // 2) ):\n",
        "                print(\"*\",end=\"\")\n",
        "            else :\n",
        "                continue\n",
        "        print()\n",
        " \n",
        "# Function to print the pattern of 'F'\n",
        "def printF() :\n",
        "    for i in range(0,height) :\n",
        "        print(\"*\",end=\"\")\n",
        "        for j in range(0,height) :\n",
        "            if ( (i == 0) or (i == height // 2 and j <= height // 2) ):\n",
        "                print(\"*\",end=\"\")\n",
        "            else :\n",
        "                continue\n",
        "        print()\n",
        "\n",
        "l = input(\"Enter letter (Capital) to print : \")\n",
        "if (l == 'A'):\n",
        "  printA()\n",
        "elif (l == 'B'):\n",
        "  printB()\n",
        "elif (l == 'C'):\n",
        "  printC()\n",
        "elif (l == 'D'):\n",
        "  printD()\n",
        "elif (l == 'E'):\n",
        "  printE()\n",
        "elif (l == 'F'):\n",
        "  printF()"
      ],
      "metadata": {
        "colab": {
          "base_uri": "https://localhost:8080/"
        },
        "id": "nho8mAmfbjW-",
        "outputId": "9732b272-28ee-4cd9-9d8e-3406aece0ae7"
      },
      "execution_count": null,
      "outputs": [
        {
          "output_type": "stream",
          "name": "stdout",
          "text": [
            "Enter height : 7\n",
            "Enter letter (Capital) to print : F\n",
            "********\n",
            "*\n",
            "*\n",
            "*****\n",
            "*\n",
            "*\n",
            "*\n"
          ]
        }
      ]
    },
    {
      "cell_type": "markdown",
      "source": [
        "###Print the number from **1** to **10** using star (**'*'**)."
      ],
      "metadata": {
        "id": "lfDQQLZjPOcF"
      }
    },
    {
      "cell_type": "code",
      "source": [
        "def one():\n",
        "  for i in range(1, 10):\n",
        "    if (i == 1):\n",
        "      print(' '*3, '*')\n",
        "    elif (i == 2):\n",
        "      print(' '*2, '*'*2)\n",
        "    elif(i == 3):\n",
        "      print(' ','* *')\n",
        "    elif(i == 4):\n",
        "      print(' *',' *')\n",
        "    elif (i == 9):\n",
        "      print('*'*9)\n",
        "    else:\n",
        "      print(' '*3,'*')\n",
        "\n",
        "def two():\n",
        "  for i in range(1, 7):\n",
        "    if (i == 1):\n",
        "      print('  * ')\n",
        "    elif ( i == 2):\n",
        "      print(' * *')\n",
        "    elif ( i == 3):\n",
        "      print(\"*  *\")\n",
        "    elif ( i == 4):\n",
        "      print('  *')\n",
        "    elif ( i == 5):\n",
        "      print(' *')\n",
        "    else:\n",
        "      print('****')\n",
        "\n",
        "\n",
        "\n",
        "shape = input(\"Enter shape in capital letters : \")\n",
        "\n",
        "if shape == 'ONE':\n",
        "  print(one())\n",
        "elif shape == 'TWO':\n",
        "  print(two())\n",
        "    "
      ],
      "metadata": {
        "colab": {
          "base_uri": "https://localhost:8080/"
        },
        "id": "UYFvyHvIPkCp",
        "outputId": "fe2ee02e-d57a-457a-cd2f-2199347e58fc"
      },
      "execution_count": null,
      "outputs": [
        {
          "output_type": "stream",
          "name": "stdout",
          "text": [
            "Enter shape in capital letters : THREE\n",
            "  * \n",
            " * *\n",
            "*  *\n",
            "  * \n",
            " * *\n",
            "  * \n",
            "None\n"
          ]
        }
      ]
    },
    {
      "cell_type": "markdown",
      "source": [
        "### Print the square and diamond shape using star (*).\n",
        "\n",
        "- Square having length n (i.e n stars)"
      ],
      "metadata": {
        "id": "jDiSkgi2I5at"
      }
    },
    {
      "cell_type": "code",
      "source": [
        "side = int(input(\"Enter length of square : \"))\n",
        "\n",
        "for i in range(side):\n",
        "  for j in range(side):\n",
        "    print('*', end = ' ')\n",
        "  print()\n"
      ],
      "metadata": {
        "colab": {
          "base_uri": "https://localhost:8080/"
        },
        "id": "FsnyfxRNJEDT",
        "outputId": "b5b1a068-4e37-4ebb-c2fd-7df3f045bc17"
      },
      "execution_count": null,
      "outputs": [
        {
          "output_type": "stream",
          "name": "stdout",
          "text": [
            "Enter length of square : 6\n",
            "* * * * * * \n",
            "* * * * * * \n",
            "* * * * * * \n",
            "* * * * * * \n",
            "* * * * * * \n",
            "* * * * * * \n"
          ]
        }
      ]
    },
    {
      "cell_type": "markdown",
      "source": [
        "- Diamond"
      ],
      "metadata": {
        "id": "aMmqJGrhKZkH"
      }
    },
    {
      "cell_type": "code",
      "source": [
        "h = eval(input(\"Enter diamond's height: \"))\n",
        "for i in range(h):\n",
        "    print(\" \" * (h - i), \"*\" * (2*i + 1))\n",
        "for j in range(h - 2, -1, -1):\n",
        "    print(\" \" * (h - j), \"*\" * (2*j + 1))"
      ],
      "metadata": {
        "colab": {
          "base_uri": "https://localhost:8080/"
        },
        "id": "7WbysFH-Kbvf",
        "outputId": "cf90ba4b-7ed1-43b8-e287-cb8d04f998ea"
      },
      "execution_count": null,
      "outputs": [
        {
          "output_type": "stream",
          "name": "stdout",
          "text": [
            "Enter diamond's height: 8\n",
            "         *\n",
            "        ***\n",
            "       *****\n",
            "      *******\n",
            "     *********\n",
            "    ***********\n",
            "   *************\n",
            "  ***************\n",
            "   *************\n",
            "    ***********\n",
            "     *********\n",
            "      *******\n",
            "       *****\n",
            "        ***\n",
            "         *\n"
          ]
        }
      ]
    },
    {
      "cell_type": "markdown",
      "source": [
        "### Python program to calculate **sin**, **cos** and **tan** of a given angle.\n",
        "- Using Built-in functions."
      ],
      "metadata": {
        "id": "Bow8XjZ-K0eh"
      }
    },
    {
      "cell_type": "code",
      "source": [
        "import math\n",
        "n = eval(input(\"Enter degree : \"))\n",
        "x = math.radians(n)\n",
        "print(\"sin : \", math.sin(x))\n",
        "print(\"cos : \", math.cos(x))\n",
        "print(\"tan : \", math.tan(x))"
      ],
      "metadata": {
        "colab": {
          "base_uri": "https://localhost:8080/"
        },
        "id": "y7vlzH6obToz",
        "outputId": "8fbdbdca-4a88-4d15-967e-b866117f47b2"
      },
      "execution_count": null,
      "outputs": [
        {
          "output_type": "stream",
          "name": "stdout",
          "text": [
            "Enter degree : 60\n",
            "sin :  0.8660254037844386\n",
            "cos :  0.5000000000000001\n",
            "tan :  1.7320508075688767\n"
          ]
        }
      ]
    },
    {
      "cell_type": "markdown",
      "source": [
        "- Using user defined functions"
      ],
      "metadata": {
        "id": "Kk986UoNdo7M"
      }
    },
    {
      "cell_type": "code",
      "source": [
        "# Factorial\n",
        "\n",
        "def fac(n):\n",
        "  if (n == 0):\n",
        "    return 1\n",
        "  else:\n",
        "    return n*fac(n-1)\n",
        "\n",
        "# sin(x)\n",
        "\n",
        "def sinuser(d, n):\n",
        "  x = (math.pi*d)/180\n",
        "  sum = 0\n",
        "  for i in range(n):\n",
        "    sum += (math.pow(-1, i)*math.pow(x, 2*i+1))/fac(2*i+1)\n",
        "  return sum\n",
        "\n",
        " # cos(x)\n",
        "\n",
        "def cosuser(d, n):\n",
        "  x = (math.pi*d)/180\n",
        "  sum = 0\n",
        "  for i in range(n):\n",
        "    sum += (math.pow(-1, i)*math.pow(x, 2*i))/fac(2*i)\n",
        "  return sum\n",
        "# tan(x)\n",
        "def tanuser(d, n):\n",
        "  return sinuser(d, n)/cosuser(d, n)\n",
        "\n",
        "# Calculations\n",
        "degree = eval(input(\"Enter degree : \"))\n",
        "terms = int(input(\"Enter no. of terms : \"))\n",
        "print(sinuser(degree, terms))\n",
        "print(cosuser(degree, terms))\n",
        "print(tanuser(degree, terms))\n",
        "\n",
        "\n"
      ],
      "metadata": {
        "colab": {
          "base_uri": "https://localhost:8080/"
        },
        "id": "YzKP2t76dsUW",
        "outputId": "b2eaf4af-bffd-4f5b-a638-775aeb85e412"
      },
      "execution_count": null,
      "outputs": [
        {
          "output_type": "stream",
          "name": "stdout",
          "text": [
            "Enter degree : 60\n",
            "Enter no. of terms : 20\n",
            "0.8660254037844385\n",
            "0.5000000000000001\n",
            "1.7320508075688765\n"
          ]
        }
      ]
    }
  ]
}