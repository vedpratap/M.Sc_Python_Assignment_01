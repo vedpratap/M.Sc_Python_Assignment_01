{
  "nbformat": 4,
  "nbformat_minor": 0,
  "metadata": {
    "colab": {
      "provenance": []
    },
    "kernelspec": {
      "name": "python3",
      "display_name": "Python 3"
    },
    "language_info": {
      "name": "python"
    }
  },
  "cells": [
    {
      "cell_type": "markdown",
      "source": [
        "#Gauss-Seidel Iteration Method (Matrix Inversion)"
      ],
      "metadata": {
        "id": "ttlImdABkk7y"
      }
    },
    {
      "cell_type": "code",
      "source": [
        "import numpy as np\n",
        "from scipy.linalg import solve\n",
        "\n",
        "A = eval(input(\"Enter the matrix A : \"))              # As np.array([[a11, a12], [a21, a22]])\n",
        "B = eval(input(\"Enter the matrix B : \"))              # As [b1, b2]\n",
        "X = eval(input(\"Enter initial guess X : \"))           # As [x1, x2]\n",
        "n = eval(input(\"Enter the number of iteration : \"))   # Integer input.\n",
        "\n",
        "L = np.tril(A)\n",
        "U = A-L\n",
        "\n",
        "for i in range(n):\n",
        "  X = np.dot(np.linalg.inv(L), B-np.dot(U,X))\n",
        "\n",
        "print()\n",
        "print(\"Solution using Gauss-Seidel Method : \", X)\n",
        "print()\n",
        "print(\"Solution using Solve Syntax : \", solve(A,B))"
      ],
      "metadata": {
        "colab": {
          "base_uri": "https://localhost:8080/"
        },
        "id": "auMzKaxwltag",
        "outputId": "f2ef48cf-200c-4756-d3e1-0a90d4cf79bd"
      },
      "execution_count": null,
      "outputs": [
        {
          "output_type": "stream",
          "name": "stdout",
          "text": [
            "Enter the matrix A : [[2,1], [3,7]]\n",
            "Enter the matrix B : [4,3]\n",
            "Enter initial guess X : [0,0]\n",
            "Enter the number of iteration : 25\n",
            "Solution using Gauss-Siedel Method :  [ 2.27272727 -0.54545455]\n",
            "\n",
            "Solution using Solve Syntax :  [ 2.27272727 -0.54545455]\n"
          ]
        }
      ]
    },
    {
      "cell_type": "markdown",
      "source": [
        "# Jacobi’s Iteration method (Matrix Inversion)"
      ],
      "metadata": {
        "id": "xtLbE3erTNhq"
      }
    },
    {
      "cell_type": "code",
      "source": [
        "import numpy as np\n",
        "from scipy.linalg import solve\n",
        "\n",
        "A = eval(input(\"Enter the matrix A : \"))              # As np.array([[a11, a12], [a21, a22]])\n",
        "B = eval(input(\"Enter the matrix B : \"))              # As [b1, b2]\n",
        "X = eval(input(\"Enter initial guess X : \"))           # As [x1, x2]\n",
        "n = eval(input(\"Enter the number of iteration : \"))   # Integer input.\n",
        "\n",
        "D = np.diag(A)\n",
        "R = A - np.diagflat(D)                                # R = L+U = Lower + Upper Triangular matrix\n",
        "\n",
        "for i in range(n):\n",
        "  X = (B - np.dot(R,X))/D\n",
        "\n",
        "print()\n",
        "print(\"Solution using Jacobi’s Iteration Method : \", X)\n",
        "print()\n",
        "print(\"Solution using Solve Syntax : \", solve(A,B))\n",
        "\n"
      ],
      "metadata": {
        "colab": {
          "base_uri": "https://localhost:8080/"
        },
        "id": "as-w5SnUSwKp",
        "outputId": "28b70bef-5736-483c-ea70-eb759b6b44e4"
      },
      "execution_count": null,
      "outputs": [
        {
          "output_type": "stream",
          "name": "stdout",
          "text": [
            "Enter the matrix A : np.array([[2,1],[3,7]])\n",
            "Enter the matrix B : [3,5]\n",
            "Enter initial guess X : [0,0]\n",
            "Enter the number of iteration : 25\n",
            "\n",
            "Solution using Jacobi’s Iteration Method :  [1.45454545 0.0909091 ]\n",
            "\n",
            "Solution using Solve Syntax :  [1.45454545 0.09090909]\n"
          ]
        }
      ]
    },
    {
      "cell_type": "markdown",
      "source": [
        "# Determinant Method (Matrix Inversion) for 2 by 2 matrix."
      ],
      "metadata": {
        "id": "4aaRpnl5vF3V"
      }
    },
    {
      "cell_type": "code",
      "source": [
        "def Transpose(m):\n",
        "  return map(list, zip(*m))\n",
        "\n",
        "def Minor(m,i,j):\n",
        "  return[row[:j] + row[j+1:] for row in (m[:i] + m[i+1:])]\n",
        "\n",
        "def Determinant(m):\n",
        "  return m[0][0]*m[1][1]-m[0][1]*m[1][0]\n",
        "\n",
        "def Inverse(m):\n",
        "  determinant = Determinant(m)\n",
        "  return [[m[1][1]/determinant, -1*m[0][1]/determinant],[-1*m[1][0]/determinant, m[0][0]/determinant]]\n",
        "\n",
        "import numpy as np\n",
        "m = eval(input(\"Enter the 2 by 2 matrix : \"))      # As np.array([[a11, a12], [a21, a22]])\n",
        "result = Inverse(m)\n",
        "print()\n",
        "print(\"Inverse of the above matrix : \", result)"
      ],
      "metadata": {
        "colab": {
          "base_uri": "https://localhost:8080/"
        },
        "id": "VZH6eUsrvKdz",
        "outputId": "20e46e07-fa8a-401c-fb93-67c208ede982"
      },
      "execution_count": 4,
      "outputs": [
        {
          "output_type": "stream",
          "name": "stdout",
          "text": [
            "Enter the 2 by 2 matrix : np.array([[2, -2], [1,-2]])\n",
            "\n",
            "Inverse of the above matrix :  [[1.0, -1.0], [0.5, -1.0]]\n"
          ]
        }
      ]
    },
    {
      "cell_type": "markdown",
      "source": [
        "# Determinant Method (Eigen Values & Eigen Vector)"
      ],
      "metadata": {
        "id": "mqeaVrfvx24T"
      }
    },
    {
      "cell_type": "code",
      "source": [
        "import numpy as np\n",
        "\n",
        "row = int(input(\"Enter the no. of rows : \"))\n",
        "column = int(input(\"Enter the no. of columns : \"))\n",
        "\n",
        "if (row == column):\n",
        "  print(\"Enter the matrix element separated by space : \")\n",
        "  entries = list(map(int, input().split(\" \")))\n",
        "  matrixm = np.array(entries).reshape(row, column)\n",
        "  w, v = np.linalg.eig(matrixm)\n",
        "  print(\"Matrix : \", matrixm)\n",
        "  print()\n",
        "  print(\"Eigenvalues : \", w)\n",
        "  print()\n",
        "  print(\"Eigenvectors : \", v)\n",
        "else:\n",
        "  print(\"Matrix should be square. Plz enter equal number of rows and columns.\")"
      ],
      "metadata": {
        "colab": {
          "base_uri": "https://localhost:8080/"
        },
        "id": "GvrmF71lyE1J",
        "outputId": "30794f20-9334-45f4-bcde-bebfb51660b7"
      },
      "execution_count": 6,
      "outputs": [
        {
          "output_type": "stream",
          "name": "stdout",
          "text": [
            "Enter the no. of rows : 3\n",
            "Enter the no. of columns : 3\n",
            "Enter the matrix element separated by space : \n",
            "1 2 4 5 6 7 4 3 2\n",
            "Matrix :  [[1 2 4]\n",
            " [5 6 7]\n",
            " [4 3 2]]\n",
            "\n",
            "Eigenvalues :  [11.31576477 -2.61940289  0.30363812]\n",
            "\n",
            "Eigenvectors :  [[-0.32522257 -0.68368172  0.47480985]\n",
            " [-0.85043353 -0.17814591 -0.81745644]\n",
            " [-0.41351311  0.70770286  0.32606835]]\n"
          ]
        }
      ]
    },
    {
      "cell_type": "markdown",
      "source": [
        "# Jacobi Method (Eigen Values & Eigen Vector)"
      ],
      "metadata": {
        "id": "6xhXjlwq1EOY"
      }
    },
    {
      "cell_type": "code",
      "source": [
        "from numpy import array,identity,diagonal\n",
        "from math import sqrt\n",
        "\n",
        "def Jacobi(A,tol = 1.0e-9): \n",
        "# Find largest off-diagonal element a[k,l]\n",
        " def maxElem(A): \n",
        "   n = len(A)\n",
        "   Amax = 0.0\n",
        "   for i in range(n-1):\n",
        "     for j in range(i+1,n):\n",
        "       if abs(A[i,j]) >= Amax:\n",
        "         Amax = abs(A[i,j])\n",
        "         k = i; l = j\n",
        "   return Amax,k,l\n",
        " \n",
        "# Rotate to make A[k,l] = 0 and define the rotation matrix\n",
        " def rotate(A,p,k,l): \n",
        "    n = len(A)\n",
        "    Adiff = A[l,l] - A[k,k]\n",
        "    if abs(A[k,l]) < abs(Adiff)*1.0e-36: \n",
        "      t = A[k,l]/Adiff\n",
        "    else:\n",
        "      phi = Adiff/(2.0*A[k,l])\n",
        "      t = 1.0/(abs(phi) + sqrt(phi**2 + 1.0))\n",
        "      if phi < 0.0: \n",
        "        t = -t\n",
        "    c = 1.0/sqrt(t**2 + 1.0); s = t*c\n",
        "    tau = s/(1.0 + c)\n",
        "    temp = A[k,l]\n",
        "    A[k,l] = 0.0\n",
        "    A[k,k] = A[k,k] - t*temp\n",
        "    A[l,l] = A[l,l] + t*temp\n",
        "    for i in range(k): \n",
        "      temp = A[i,k]\n",
        "      A[i,k] = temp - s*(A[i,l] + tau*temp)\n",
        "      A[i,l] = A[i,l] + s*(temp - tau*A[i,l])\n",
        "    for i in range(k+1,l):\n",
        "      temp = A[k,i]\n",
        "      A[k,i] = temp - s*(A[i,l] + tau*A[k,i])\n",
        "      A[i,l] = A[i,l] + s*(temp - tau*A[i,l])\n",
        "    for i in range(l+1,n):\n",
        "      temp = A[k,i]\n",
        "      A[k,i] = temp - s*(A[l,i] + tau*temp)\n",
        "      A[l,i] = A[l,i] + s*(temp - tau*A[l,i])\n",
        "    for i in range(n):\n",
        "      temp = p[i,k]\n",
        "      p[i,k] = temp - s*(p[i,l] + tau*p[i,k])\n",
        "      p[i,l] = p[i,l] + s*(temp - tau*p[i,l])\n",
        "\n",
        "\n",
        " n = len(A)\n",
        " maxRot = 5*(n**2)                                 # Set limit on number of rotations\n",
        " p = identity(n)*1.0                               # Initialize transformation matrix\n",
        " for i in range(maxRot):\n",
        "   Amax,k,l = maxElem(A)\n",
        "   if Amax < tol: \n",
        "     return diagonal(A),p\n",
        "   rotate(A,p,k,l)\n",
        " print('Jacobi method did not converge')\n",
        "\n",
        "\n",
        "import numpy as np \n",
        "A = eval(input('Enter the matrix A:'))                  # as np.array([[a11,a12],[a21,a22]])    \n",
        "print()            \n",
        "print('Eigenvalues and Eigenvectors of matrix:\\n', A)\n",
        "print()\n",
        "print('is\\n', Jacobi(A,tol = 1.0e-9))                   # set the tolerance as your wish "
      ],
      "metadata": {
        "colab": {
          "base_uri": "https://localhost:8080/"
        },
        "id": "W8yZxI-b1ky1",
        "outputId": "9e55baab-30d2-4500-cd89-f26f74d50387"
      },
      "execution_count": 10,
      "outputs": [
        {
          "output_type": "stream",
          "name": "stdout",
          "text": [
            "Enter the matrix A:np.array([[1,2],[2,4]])\n",
            "\n",
            "Eigenvalues and Eigenvectors of matrix:\n",
            " [[1 2]\n",
            " [2 4]]\n",
            "\n",
            "is\n",
            " (array([0, 5]), array([[ 0.89442719,  0.4472136 ],\n",
            "       [-0.4472136 ,  0.89442719]]))\n"
          ]
        }
      ]
    },
    {
      "cell_type": "markdown",
      "source": [
        "# Power Method (Eigen Values & Eigen Vector)"
      ],
      "metadata": {
        "id": "00V_G0YD5INQ"
      }
    },
    {
      "cell_type": "code",
      "source": [
        "import numpy as np\n",
        "\n",
        "A = eval(input('Enter the matrix A:'))                        # as np.array([[a11,a12],[a21,a22]])\n",
        "x1 = eval(input('Enter initial guess of x:'))                 # as [x01,x02]\n",
        "x2 = eval(input('Enter initial guess of x:'))                 # as [x01,x02] exactly same as x1\n",
        "n = eval(input('Enter the number of Iterations:'))\n",
        "\n",
        "for i in range (n):\n",
        " x1=np.dot(A, x1)\n",
        " norm=np.linalg.norm(x1)\n",
        " B=x1/norm\n",
        " print(B)\n",
        "\n",
        "for i in range (n-1):\n",
        " x2=np.dot(A, x2)\n",
        "\n",
        "C=np.min(abs(B))\n",
        "eigvect=B/C\n",
        "\n",
        "y = eval(input('Enter a non-orthogonal matrix:'))# as [y01,y02]\n",
        "eigvalue=np.dot(x1,y)/np.dot(x2,y)\n",
        "\n",
        "print('Dominating eigenvalue is', eigvalue)\n",
        "print()\n",
        "print('and corresponding eigenvector is', eigvect)\n",
        "print()"
      ],
      "metadata": {
        "colab": {
          "base_uri": "https://localhost:8080/"
        },
        "id": "ZrW0SS2E5NDS",
        "outputId": "a516e58c-3592-4094-b357-2cc5030aab8e"
      },
      "execution_count": 11,
      "outputs": [
        {
          "output_type": "stream",
          "name": "stdout",
          "text": [
            "Enter the matrix A:np.array([[1,3],[2,2]])\n",
            "Enter initial guess of x:[1,0]\n",
            "Enter initial guess of x:[1,0]\n",
            "Enter the number of Iterations:10\n",
            "[0.4472136  0.89442719]\n",
            "[0.7592566  0.65079137]\n",
            "[0.69310872 0.72083306]\n",
            "[0.71054763 0.70364911]\n",
            "[0.70624288 0.70796963]\n",
            "[0.70732253 0.70689097]\n",
            "[0.70705283 0.70716073]\n",
            "[0.70712027 0.70709329]\n",
            "[0.70710341 0.70711015]\n",
            "[0.70710762 0.70710594]\n",
            "Enter a non-orthogonal matrix:[1,0]\n",
            "Dominating eigenvalue is 4.000028610393202\n",
            "\n",
            "and corresponding eigenvector is [1.00000238 1.        ]\n",
            "\n"
          ]
        }
      ]
    },
    {
      "cell_type": "markdown",
      "source": [
        "> **Created by Ved Pratap - Google Colab**"
      ],
      "metadata": {
        "id": "MwHXRjUVyS07"
      }
    }
  ]
}